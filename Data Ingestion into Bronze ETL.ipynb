{
 "cells": [
  {
   "cell_type": "code",
   "execution_count": 0,
   "metadata": {
    "application/vnd.databricks.v1+cell": {
     "cellMetadata": {
      "byteLimit": 2048000,
      "rowLimit": 10000
     },
     "inputWidgets": {},
     "nuid": "fce24dc5-199f-4b83-b145-cf6fd48b651a",
     "showTitle": false,
     "title": ""
    }
   },
   "outputs": [],
   "source": [
    "# raw_data_path = \"dbfs:/mnt/upgrade_to_uc/raw/\"\n",
    "raw_data_path = \"/Volumes/main/uc_upgrade/volume\"\n",
    "\n",
    "\n",
    "\n",
    "checkpointPath = \"abfss://container@databrickssqlmetastore.dfs.core.windows.net/raw/\"\n",
    "\n",
    "# catalog = \"hive_metastore\"\n",
    "catalog = \"main\""
   ]
  },
  {
   "cell_type": "code",
   "execution_count": 0,
   "metadata": {
    "application/vnd.databricks.v1+cell": {
     "cellMetadata": {
      "byteLimit": 2048000,
      "rowLimit": 10000
     },
     "inputWidgets": {},
     "nuid": "df51b919-81ed-4b09-a694-df5a57a726dc",
     "showTitle": false,
     "title": ""
    }
   },
   "outputs": [],
   "source": [
    "gen2_credential = dbutils.secrets.get(\"Credentials\", \"Gen2\")"
   ]
  },
  {
   "cell_type": "code",
   "execution_count": 0,
   "metadata": {
    "application/vnd.databricks.v1+cell": {
     "cellMetadata": {
      "byteLimit": 2048000,
      "rowLimit": 10000
     },
     "inputWidgets": {},
     "nuid": "c2619a1b-492a-4ec3-b139-7de3675ba6b4",
     "showTitle": false,
     "title": ""
    }
   },
   "outputs": [],
   "source": [
    "storage_account_name = 'databrickssqlmetastore'\n",
    "storage_account_access_key = gen2_credential\n",
    "spark.conf.set('fs.azure.account.key.' + storage_account_name + '.blob.core.windows.net', storage_account_access_key)\n",
    "\n",
    "spark._jsc.hadoopConfiguration().set(\"fs.azure.account.key.databrickssqlmetastore.dfs.core.windows.net\", gen2_credential)\n"
   ]
  },
  {
   "cell_type": "code",
   "execution_count": 0,
   "metadata": {
    "application/vnd.databricks.v1+cell": {
     "cellMetadata": {
      "byteLimit": 2048000,
      "rowLimit": 10000
     },
     "inputWidgets": {},
     "nuid": "63443fa1-800e-436e-b3c3-fc1265ebab64",
     "showTitle": false,
     "title": ""
    }
   },
   "outputs": [
    {
     "output_type": "display_data",
     "data": {
      "text/html": [
       "<style scoped>\n",
       "  .ansiout {\n",
       "    display: block;\n",
       "    unicode-bidi: embed;\n",
       "    white-space: pre-wrap;\n",
       "    word-wrap: break-word;\n",
       "    word-break: break-all;\n",
       "    font-family: \"Menlo\", \"Monaco\", \"Consolas\", \"Ubuntu Mono\", \"Source Code Pro\", monospace;\n",
       "    font-size: 13px;\n",
       "    color: #555;\n",
       "    margin-left: 4px;\n",
       "    line-height: 19px;\n",
       "  }\n",
       "</style>"
      ]
     },
     "metadata": {
      "application/vnd.databricks.v1+output": {
       "arguments": {},
       "data": "",
       "errorSummary": "Cancelled",
       "errorTraceType": "html",
       "metadata": {},
       "type": "ipynbError"
      }
     },
     "output_type": "display_data"
    }
   ],
   "source": [
    "from pyspark.sql.types import StructType\n",
    "\n",
    "schema = StructType().add(\"summary\", \"string\").add(\"SourceName\", \"string\").add(\"PlanId\", \"string\").add(\"IndivisualRate\", \"string\").add(\"Age\", \"string\").add(\"RatingAreaId\", \"string\").add(\"Tobacco\", \"string\").add(\"MetalLevel\", \"string\").add(\"PlanType\", \"string\").add(\"DentalOnlyPlan\", \"string\").add(\"MedicalDrugDeductiblesIntegrated\", \"string\").add(\"PlanMarketingName\", \"string\").add(\"TEHBCombInnOonIndividualMOOP\", \"string\").add(\"WellnessProgramOffered\", \"string\").add(\"InpatientCopaymentMaximumDays\", \"string\").add(\"AVCalculatorOutputNumber\", \"string\").add(\"CSRVariationType\", \"string\").add(\"DiseaseManagementProgramsOffered\", \"string\").add(\"IssuerActuarialValue\", \"string\").add(\"prediction\", \"string\").add(\"std_diff\", \"string\")\n",
    "\n",
    "(spark.readStream.format(\"cloudFiles\")\n",
    " .schema(schema)\n",
    " .option(\"cloudFiles.format\", \"csv\")\n",
    " .option(\"header\", \"false\")\n",
    " .option(\"cloudFiles.schemaLocation\", raw_data_path+\"/autoloader/bronze/\")\n",
    " .load(raw_data_path)\n",
    " .writeStream\n",
    " .option(\"checkpointLocation\", raw_data_path+\"/autoloader/bronze/\")\n",
    " .toTable(catalog+\".uc_upgrade.raw_bronze\")\n",
    " )"
   ]
  },
  {
   "cell_type": "code",
   "execution_count": 0,
   "metadata": {
    "application/vnd.databricks.v1+cell": {
     "cellMetadata": {},
     "inputWidgets": {},
     "nuid": "f00e1aa7-37d4-4703-9bef-d233334d7120",
     "showTitle": false,
     "title": ""
    }
   },
   "outputs": [],
   "source": []
  }
 ],
 "metadata": {
  "application/vnd.databricks.v1+notebook": {
   "dashboards": [],
   "language": "python",
   "notebookMetadata": {
    "pythonIndentUnit": 4
   },
   "notebookName": "Data Ingestion into Bronze ETL",
   "widgets": {}
  }
 },
 "nbformat": 4,
 "nbformat_minor": 0
}
